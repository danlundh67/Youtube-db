{
 "cells": [
  {
   "cell_type": "markdown",
   "metadata": {},
   "source": [
    "## Dokumentation av filer i backend"
   ]
  },
  {
   "cell_type": "markdown",
   "metadata": {},
   "source": [
    "Filerna i backend:\n",
    "- change_name_data.py\n",
    "- constants.py\n",
    "- database.py\n",
    "- ingest_data_to_database.py"
   ]
  },
  {
   "cell_type": "markdown",
   "metadata": {},
   "source": [
    "### change_name_data.py\n",
    "\n",
    "Detta script kopierar filerna från rådata till en ny folder ( i cleaned_data). Den nya foldern i cleaned_data får ett namn baserat på första delen av orginalnamnet (foldernamnet i rådata).\n",
    "\n",
    "### constants.py\n",
    "Detta script definerar sökvägen till databasen och cleaned_data\n",
    "\n",
    "### database.py\n",
    "Detta script definerar två klasser. En klass för att sköta databaskopplingen (koppla upp/ned och ställa frågor), den andra klassen handhar frågor mot databasen som returnerar en dataframe.\n",
    "\n",
    "### ingest_data_to_database.py\n",
    "Detta script tar datafiler (csv filer) från cleaned_data (i respektive folder) och skapar ett databaschema med foldernamnet samt skapar tabeller från datafilerna (csv) i detta schema.\n",
    "\n"
   ]
  }
 ],
 "metadata": {
  "language_info": {
   "name": "python"
  }
 },
 "nbformat": 4,
 "nbformat_minor": 2
}
